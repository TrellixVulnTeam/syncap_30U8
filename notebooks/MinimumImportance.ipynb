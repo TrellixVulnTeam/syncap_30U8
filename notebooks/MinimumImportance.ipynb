{
 "cells": [
  {
   "cell_type": "code",
   "execution_count": 1,
   "metadata": {},
   "outputs": [],
   "source": [
    "import json\n",
    "import os.path\n",
    "import numpy as np\n",
    "from collections import defaultdict\n",
    "from matplotlib import pyplot as plt"
   ]
  },
  {
   "cell_type": "code",
   "execution_count": 2,
   "metadata": {},
   "outputs": [],
   "source": [
    "ADJECTIVES_COLORS_ANIMATE = {\"black_cat\", \"brown_dog\", \"white_horse\", \"black_bird\"}\n",
    "ADJECTIVES_COLORS_INANIMATE = {\"red_bus\", \"white_truck\", \"blue_bus\", \"white_boat\"}\n",
    "\n",
    "ADJECTIVES_SIZES_ANIMATE = {\"big_bird\", \"small_cat\", \"big_cat\", \"small_dog\"}\n",
    "ADJECTIVES_SIZES_INANIMATE = {\"small_plane\", \"big_plane\", \"small_table\", \"big_truck\"}\n",
    "\n",
    "VERBS_TRANSITIVE = {\"eat_man\", \"ride_woman\", \"hold_child\", \"eat_horse\"}\n",
    "VERBS_INTRANSITIVE = {\"lie_woman\", \"fly_bird\", \"stand_bird\", \"stand_child\"}\n",
    "\n",
    "all_pairs = ADJECTIVES_COLORS_ANIMATE.union(ADJECTIVES_COLORS_INANIMATE).union(ADJECTIVES_SIZES_ANIMATE)\\\n",
    "                                     .union(ADJECTIVES_SIZES_INANIMATE).union(VERBS_TRANSITIVE).union(VERBS_INTRANSITIVE)"
   ]
  },
  {
   "cell_type": "code",
   "execution_count": 3,
   "metadata": {},
   "outputs": [],
   "source": [
    "def read_coco_metrics(model_dir, split='test', beam=5, rr=False):\n",
    "    if rr:\n",
    "        fn = 'coco.re_ranking.beam_%d.%s' % (beam, split)\n",
    "    else:\n",
    "        fn = 'coco.beam_%d.%s' % (beam, split)\n",
    "    with open(model_dir + fn) as f:\n",
    "        lines = f.readlines()\n",
    "    results = dict()\n",
    "    for line in lines:\n",
    "        m, s = line.split(': ')\n",
    "        results[m] = 100*float(s)\n",
    "    return results\n",
    "\n",
    "def avg_coco_metrics(metrics_dicts):\n",
    "    count = len(metrics_dicts)\n",
    "    results = defaultdict(int)\n",
    "    for ix, d in metrics_dicts.items():\n",
    "        for m, s in d.items():\n",
    "            results[m] += s\n",
    "    for m in results:\n",
    "        results[m] /= count\n",
    "    return results\n",
    "\n",
    "def read_pair_recalls(mdir, concept_pairs, at=5, split='test', beam=5, rr=False):\n",
    "    if rr:\n",
    "        fn = 'recall_%d.%s.re_ranking.beam_%d.%s' % (at, '%s', beam, split)\n",
    "    else:\n",
    "        fn = 'recall_%d.%s.beam_%d.%s' % (at, '%s', beam, split)\n",
    "    basefile = mdir + fn\n",
    "    results = dict()\n",
    "    for pair in concept_pairs:\n",
    "        fn = basefile % pair\n",
    "        if os.path.isfile(fn):\n",
    "            with open(fn) as f:\n",
    "                recall_score = json.load(f)\n",
    "            results[pair] = recall_score\n",
    "    return results\n",
    "\n",
    "def average_recall(recall_scores, min_importance=1):\n",
    "    pair_recalls_summed = 0\n",
    "    length = 0\n",
    "\n",
    "    for i, pair in enumerate(recall_scores.keys()):\n",
    "        average_pair_recall = np.sum(list(recall_scores[pair][\"true_positives\"].values())[min_importance - 1:]) / \\\n",
    "                              np.sum(list(recall_scores[pair][\"numbers\"].values())[min_importance - 1:])\n",
    "        if not np.isnan(average_pair_recall):\n",
    "            pair_recalls_summed += average_pair_recall\n",
    "            length += 1\n",
    "\n",
    "    recall = 100 * pair_recalls_summed / length\n",
    "    return recall"
   ]
  },
  {
   "cell_type": "code",
   "execution_count": 4,
   "metadata": {},
   "outputs": [],
   "source": [
    "split = 'test'\n",
    "beam = 100\n",
    "recall_at = 5\n",
    "basedir = \"../experiments/\"\n",
    "model2dirs = {\n",
    "    'butd': [basedir+'coco_heldout_%d/butd/results/' % d for d in [1,2,3,4]],\n",
    "    'butd+pos': [basedir+'coco_heldout_%d_pos_inter/butd/results/' % d for d in [1,2,3,4]],\n",
    "    'butr+rr': [basedir+'coco_heldout_%d/butr/results/' % d for d in [1,2,3,4]],\n",
    "    'butr+rr+pos': [basedir+'coco_heldout_%d_pos_inter/butr/results/' % d for d in [1,2,3,4]],\n",
    "    'butr_weight+rr': [basedir+'coco_heldout_%d/butr_weight/results/' % d for d in [1,2,3,4]],\n",
    "    'butr_weight+rr+pos': [basedir+'coco_heldout_%d_pos_inter/butr_weight/results/' % d for d in [1,2,3,4]],\n",
    "    'm2': [basedir+'coco_heldout_%d/m2/results/' % d for d in [1,2,3,4]],\n",
    "    'm2+pos': [basedir+'coco_heldout_%d_pos_inter/m2/results/' % d for d in [1,2,3,4]],\n",
    "}"
   ]
  },
  {
   "cell_type": "code",
   "execution_count": 5,
   "metadata": {},
   "outputs": [
    {
     "name": "stderr",
     "output_type": "stream",
     "text": [
      "/home/pmh864/libs/anaconda3/lib/python3.7/site-packages/ipykernel_launcher.py:45: RuntimeWarning: invalid value encountered in long_scalars\n"
     ]
    }
   ],
   "source": [
    "model2recalls = {m: {i+1: read_pair_recalls(mdir, all_pairs, recall_at, split, beam, rr=('+rr' in m)) \n",
    "                     for i, mdir in enumerate(mdirs)} \n",
    "                 for m, mdirs in model2dirs.items()}\n",
    "model2pair2metrics = dict()\n",
    "for model, values in model2recalls.items():\n",
    "    model2pair2metrics[model] = dict()\n",
    "    for val in values.values():\n",
    "        for pair, metrics in val.items():\n",
    "            model2pair2metrics[model][pair] = metrics\n",
    "            \n",
    "model2imps = dict()\n",
    "for model, pair2metrics in model2pair2metrics.items():\n",
    "    imps = []\n",
    "    for imp in range(1, 5+1):\n",
    "        imps.append(average_recall(pair2metrics, imp))\n",
    "    model2imps[model] = imps"
   ]
  },
  {
   "cell_type": "code",
   "execution_count": 6,
   "metadata": {},
   "outputs": [
    {
     "name": "stdout",
     "output_type": "stream",
     "text": [
      "\\textbf{Model} & \\textbf{1} & \\textbf{2} & \\textbf{3} & \\textbf{4} & \\textbf{5} \\\\\n",
      "BUTD & 9.2 & 14.0 & 19.5 & 23.9 & 43.1 \\\\\n",
      "BUTD+POS & 11.1 & 17.1 & 22.8 & 29.6 & 48.3 \\\\\n",
      "BUTR+RR & 13.7 & 20.4 & 26.1 & 32.5 & 52.2 \\\\\n",
      "BUTR+RR+POS & 11.5 & 16.9 & 21.3 & 28.3 & 37.7 \\\\\n",
      "BUTR_WEIGHT+RR & 13.5 & 20.4 & 25.6 & 30.1 & 45.2 \\\\\n",
      "BUTR_WEIGHT+RR+POS & 15.4 & 22.9 & 28.9 & 34.3 & 48.6 \\\\\n",
      "M2 & 10.1 & 15.4 & 20.3 & 21.2 & 38.8 \\\\\n",
      "M2+POS & 12.1 & 18.3 & 23.6 & 29.8 & 42.4 \\\\\n"
     ]
    },
    {
     "name": "stderr",
     "output_type": "stream",
     "text": [
      "/home/pmh864/libs/anaconda3/lib/python3.7/site-packages/ipykernel_launcher.py:45: RuntimeWarning: invalid value encountered in long_scalars\n"
     ]
    }
   ],
   "source": [
    "print('\\\\textbf{Model} & \\\\textbf{1} & \\\\textbf{2} & \\\\textbf{3} & \\\\textbf{4} & \\\\textbf{5} \\\\\\\\')\n",
    "for model, pair2metrics in model2pair2metrics.items():\n",
    "    line = model.upper() + \" \"\n",
    "    for imp in range(1, 5+1):\n",
    "        line += \"& %.1f \" % average_recall(pair2metrics, imp)\n",
    "    line += \"\\\\\\\\\"\n",
    "    print(line)"
   ]
  },
  {
   "cell_type": "code",
   "execution_count": 7,
   "metadata": {},
   "outputs": [
    {
     "name": "stdout",
     "output_type": "stream",
     "text": [
      "\\textbf{Model} & \\textbf{1} & \\textbf{2} & \\textbf{3} & \\textbf{4} & \\textbf{5} \\\\\n",
      "BUTD & 12.1 & 18.3 & 23.6 & 29.8 & 42.4 \\\\\n",
      "BUTD+POS & 12.1 & 18.3 & 23.6 & 29.8 & 42.4 \\\\\n",
      "BUTR+RR & 12.1 & 18.3 & 23.6 & 29.8 & 42.4 \\\\\n",
      "BUTR+RR+POS & 12.1 & 18.3 & 23.6 & 29.8 & 42.4 \\\\\n",
      "BUTR_WEIGHT+RR & 12.1 & 18.3 & 23.6 & 29.8 & 42.4 \\\\\n",
      "BUTR_WEIGHT+RR+POS & 12.1 & 18.3 & 23.6 & 29.8 & 42.4 \\\\\n",
      "M2 & 12.1 & 18.3 & 23.6 & 29.8 & 42.4 \\\\\n",
      "M2+POS & 12.1 & 18.3 & 23.6 & 29.8 & 42.4 \\\\\n"
     ]
    },
    {
     "name": "stderr",
     "output_type": "stream",
     "text": [
      "/home/pmh864/libs/anaconda3/lib/python3.7/site-packages/ipykernel_launcher.py:45: RuntimeWarning: invalid value encountered in long_scalars\n"
     ]
    }
   ],
   "source": [
    "print('\\\\textbf{Model} & \\\\textbf{1} & \\\\textbf{2} & \\\\textbf{3} & \\\\textbf{4} & \\\\textbf{5} \\\\\\\\')\n",
    "for model, imps in model2imps.items():\n",
    "    line = model.upper() + \" \"\n",
    "    for imp in range(1, 5+1):\n",
    "        line += \"& %.1f \" % average_recall(pair2metrics, imp)\n",
    "    line += \"\\\\\\\\\"\n",
    "    print(line)"
   ]
  },
  {
   "cell_type": "code",
   "execution_count": 8,
   "metadata": {},
   "outputs": [
    {
     "data": {
      "image/png": "[encoded data removed]",
      "text/plain": [
       "<Figure size 1152x720 with 1 Axes>"
      ]
     },
     "metadata": {
      "needs_background": "light"
     },
     "output_type": "display_data"
    }
   ],
   "source": [
    "f, ax = plt.subplots(figsize=(16,10))\n",
    "\n",
    "colors = ['#D81B60', '#1E88E5', '#FFC107', '#004D40']\n",
    "\n",
    "# set width of bar\n",
    "barWidth = 0.25\n",
    "\n",
    "# Set position of bar on X axis\n",
    "r1 = np.arange(len(model2imps['butd']))\n",
    "r2 = [x + barWidth for x in r1]\n",
    "r3 = [x + barWidth for x in r2]\n",
    "\n",
    "# Make the plot\n",
    "ax.bar(r1, model2imps['butd+pos'], color=colors[1], width=barWidth, edgecolor='black', label='BUTD+POS', hatch='//')\n",
    "ax.bar(r1, model2imps['butd'], color=colors[1], width=barWidth, edgecolor='black', label='BUTD')\n",
    "ax.bar(r2, model2imps['m2+pos'], color=colors[2], width=barWidth, edgecolor='black', label=r'$\\mathcal{M}^2$-TRM+POS', hatch='//')\n",
    "ax.bar(r2, model2imps['m2'], color=colors[2], width=barWidth, edgecolor='black', label=r'$\\mathcal{M}^2$-TRM')\n",
    "ax.bar(r3, model2imps['butr_weight+rr+pos'], color=colors[0], width=barWidth, edgecolor='black', label='BUTR$_{weight}$+POS', hatch='//')\n",
    "ax.bar(r3, model2imps['butr_weight+rr'], color=colors[0], width=barWidth, edgecolor='black', label='BUTR$_{weight}$')\n",
    "\n",
    "# Add xticks on the middle of the group bars\n",
    "ax.set_xlabel('Minimum Importance', fontsize=28)\n",
    "plt.xticks([r + barWidth for r in range(len(r1))], [1, 2, 3, 4, 5], fontsize=24)\n",
    "ax.set_ylabel('Recall@5', fontsize=28)\n",
    "plt.yticks(fontsize=24)\n",
    "\n",
    "# Create legend & Show graphic\n",
    "ax.grid()\n",
    "ax.legend(ncol=3, fontsize=20);\n",
    "# plt.savefig('min_importance_1.pdf', bbox_inches='tight')"
   ]
  },
  {
   "cell_type": "code",
   "execution_count": null,
   "metadata": {},
   "outputs": [],
   "source": []
  }
 ],
 "metadata": {
  "kernelspec": {
   "display_name": "Python 3",
   "language": "python",
   "name": "python3"
  },
  "language_info": {
   "codemirror_mode": {
    "name": "ipython",
    "version": 3
   },
   "file_extension": ".py",
   "mimetype": "text/x-python",
   "name": "python",
   "nbconvert_exporter": "python",
   "pygments_lexer": "ipython3",
   "version": "3.7.3"
  }
 },
 "nbformat": 4,
 "nbformat_minor": 4
}
